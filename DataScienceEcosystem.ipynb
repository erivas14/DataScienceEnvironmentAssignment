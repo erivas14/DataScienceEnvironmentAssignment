{
 "cells": [
  {
   "cell_type": "markdown",
   "id": "729806cd-55a8-46b0-9164-3f59f7233d72",
   "metadata": {},
   "source": [
    "# Data Science Tools and Ecosystem"
   ]
  },
  {
   "cell_type": "markdown",
   "id": "ceb1fbd1-7416-48e6-bb62-a920e5f77c33",
   "metadata": {},
   "source": [
    "** Objectives: **\n",
    "- List popular languages for Data Science\n",
    "- List commonly used libraries for Data Science\n",
    "- Create a table of three development environment open source tools used in data science\n",
    "- Practice the use of arithmetic expressions to compute evaluations"
   ]
  },
  {
   "cell_type": "markdown",
   "id": "0eacd474-3f51-4884-b050-28180cfd12fa",
   "metadata": {},
   "source": [
    "In this notebook, Data Science Tools and Ecosystem are summarized."
   ]
  },
  {
   "cell_type": "markdown",
   "id": "f0d1eca1-5fc5-46ee-8d55-23adfb241253",
   "metadata": {},
   "source": [
    "Some of the popular languages that Data Scientists use are:\n",
    "1. Python\n",
    "2. C++\n",
    "3. Java"
   ]
  },
  {
   "cell_type": "markdown",
   "id": "a9e474d1-eba8-433d-9be4-17393b04e771",
   "metadata": {},
   "source": [
    "Some of the commonly used libraries used by Data Scientists include:\n",
    "1. Numpy\n",
    "2. Pandas\n",
    "3. Matplotlib"
   ]
  },
  {
   "cell_type": "markdown",
   "id": "5b73c480-cc2f-44db-8e9e-f84ff83048fd",
   "metadata": {},
   "source": [
    "| Data Science Tools |\n",
    "| ------------------ |\n",
    "| Jupyter Notebook |\n",
    "| R Studio |\n",
    "| PyTorch |"
   ]
  },
  {
   "cell_type": "markdown",
   "id": "8d37225f-d003-40b3-8c0e-a67be3368365",
   "metadata": {},
   "source": [
    "### Below are a few examples of evaluating arithmetic expressions in Python"
   ]
  },
  {
   "cell_type": "code",
   "execution_count": 7,
   "id": "37ae57a9-e7f6-4163-a9ec-a7dd242e4d79",
   "metadata": {},
   "outputs": [
    {
     "data": {
      "text/plain": [
       "17"
      ]
     },
     "execution_count": 7,
     "metadata": {},
     "output_type": "execute_result"
    }
   ],
   "source": [
    "# This a simple arithmetic expression to mutiply then add integers\n",
    "(3*4)+5"
   ]
  },
  {
   "cell_type": "code",
   "execution_count": 9,
   "id": "641c2c45-4dca-431d-8cb6-f2c425aa44ef",
   "metadata": {},
   "outputs": [
    {
     "data": {
      "text/plain": [
       "3.3333333333333335"
      ]
     },
     "execution_count": 9,
     "metadata": {},
     "output_type": "execute_result"
    }
   ],
   "source": [
    "#  This will convert 200 minutes to hours by dividing by 60\n",
    "200/60"
   ]
  },
  {
   "cell_type": "markdown",
   "id": "e8f2d3c5-a424-48fe-99ff-ab4962b58d72",
   "metadata": {},
   "source": [
    "## Author\n",
    "Edgar Rivas"
   ]
  }
 ],
 "metadata": {
  "kernelspec": {
   "display_name": "anaconda-panel-2023.05-py310",
   "language": "python",
   "name": "conda-env-anaconda-panel-2023.05-py310-py"
  },
  "language_info": {
   "codemirror_mode": {
    "name": "ipython",
    "version": 3
   },
   "file_extension": ".py",
   "mimetype": "text/x-python",
   "name": "python",
   "nbconvert_exporter": "python",
   "pygments_lexer": "ipython3",
   "version": "3.11.5"
  }
 },
 "nbformat": 4,
 "nbformat_minor": 5
}
